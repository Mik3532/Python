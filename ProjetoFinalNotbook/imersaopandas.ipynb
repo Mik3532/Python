{
 "cells": [
  {
   "cell_type": "code",
   "execution_count": 1,
   "metadata": {},
   "outputs": [
    {
     "name": "stdout",
     "output_type": "stream",
     "text": [
      "Hello World\n"
     ]
    }
   ],
   "source": [
    "# Ambientando um HelloWorld\n",
    "\n",
    "print (\"Hello World\")"
   ]
  },
  {
   "cell_type": "markdown",
   "metadata": {},
   "source": [
    "# SqlAlchemy é uma bibliotexa de ORM "
   ]
  },
  {
   "cell_type": "markdown",
   "metadata": {},
   "source": [
    "- Conexão facil\n",
    "- Mapeamento de Tabela com Classe (ORM)\n",
    "- Resolve um conflito de tecnologias com paradigmas diferentes.\n",
    "- tudo fique orientado a objetos "
   ]
  },
  {
   "cell_type": "code",
   "execution_count": 4,
   "metadata": {},
   "outputs": [
    {
     "name": "stdout",
     "output_type": "stream",
     "text": [
      "Requirement already satisfied: sqlalchemy in c:\\users\\ead\\desktop\\python\\projetofinalnotbook\\.venv\\lib\\site-packages (2.0.31)\n",
      "Requirement already satisfied: typing-extensions>=4.6.0 in c:\\users\\ead\\desktop\\python\\projetofinalnotbook\\.venv\\lib\\site-packages (from sqlalchemy) (4.12.2)\n",
      "Requirement already satisfied: greenlet!=0.4.17 in c:\\users\\ead\\desktop\\python\\projetofinalnotbook\\.venv\\lib\\site-packages (from sqlalchemy) (3.0.3)\n"
     ]
    }
   ],
   "source": [
    "! pip install sqlalchemy"
   ]
  },
  {
   "cell_type": "code",
   "execution_count": 5,
   "metadata": {},
   "outputs": [
    {
     "name": "stdout",
     "output_type": "stream",
     "text": [
      "Collecting pymysql\n",
      "  Using cached PyMySQL-1.1.1-py3-none-any.whl.metadata (4.4 kB)\n",
      "Using cached PyMySQL-1.1.1-py3-none-any.whl (44 kB)\n",
      "Installing collected packages: pymysql\n",
      "Successfully installed pymysql-1.1.1\n"
     ]
    }
   ],
   "source": [
    "! pip install pymysql"
   ]
  },
  {
   "cell_type": "code",
   "execution_count": 8,
   "metadata": {},
   "outputs": [],
   "source": [
    "import pandas as pd"
   ]
  },
  {
   "cell_type": "code",
   "execution_count": 9,
   "metadata": {},
   "outputs": [],
   "source": [
    "from sqlalchemy import create_engine"
   ]
  },
  {
   "cell_type": "code",
   "execution_count": 10,
   "metadata": {},
   "outputs": [],
   "source": [
    "import pymysql"
   ]
  },
  {
   "cell_type": "markdown",
   "metadata": {},
   "source": [
    "## Senha?\n",
    "\n",
    "- user = \"root\"\n",
    "- password = \"senai@123\"\n",
    "- host = \"localhost\"\n",
    "- database = \"projetodiario1\""
   ]
  },
  {
   "cell_type": "code",
   "execution_count": 12,
   "metadata": {},
   "outputs": [
    {
     "data": {
      "text/html": [
       "<div>\n",
       "<style scoped>\n",
       "    .dataframe tbody tr th:only-of-type {\n",
       "        vertical-align: middle;\n",
       "    }\n",
       "\n",
       "    .dataframe tbody tr th {\n",
       "        vertical-align: top;\n",
       "    }\n",
       "\n",
       "    .dataframe thead th {\n",
       "        text-align: right;\n",
       "    }\n",
       "</style>\n",
       "<table border=\"1\" class=\"dataframe\">\n",
       "  <thead>\n",
       "    <tr style=\"text-align: right;\">\n",
       "      <th></th>\n",
       "      <th>id</th>\n",
       "      <th>ra</th>\n",
       "      <th>Nome</th>\n",
       "      <th>tempoestudo</th>\n",
       "      <th>rendafamiliar</th>\n",
       "    </tr>\n",
       "  </thead>\n",
       "  <tbody>\n",
       "    <tr>\n",
       "      <th>0</th>\n",
       "      <td>1</td>\n",
       "      <td>00000001</td>\n",
       "      <td>None</td>\n",
       "      <td>0</td>\n",
       "      <td>NaN</td>\n",
       "    </tr>\n",
       "    <tr>\n",
       "      <th>1</th>\n",
       "      <td>2</td>\n",
       "      <td>00000002</td>\n",
       "      <td>None</td>\n",
       "      <td>0</td>\n",
       "      <td>NaN</td>\n",
       "    </tr>\n",
       "    <tr>\n",
       "      <th>2</th>\n",
       "      <td>3</td>\n",
       "      <td>00000003</td>\n",
       "      <td>None</td>\n",
       "      <td>0</td>\n",
       "      <td>NaN</td>\n",
       "    </tr>\n",
       "    <tr>\n",
       "      <th>3</th>\n",
       "      <td>4</td>\n",
       "      <td>00000004</td>\n",
       "      <td>None</td>\n",
       "      <td>0</td>\n",
       "      <td>NaN</td>\n",
       "    </tr>\n",
       "    <tr>\n",
       "      <th>4</th>\n",
       "      <td>5</td>\n",
       "      <td>00000005</td>\n",
       "      <td>None</td>\n",
       "      <td>0</td>\n",
       "      <td>NaN</td>\n",
       "    </tr>\n",
       "    <tr>\n",
       "      <th>...</th>\n",
       "      <td>...</td>\n",
       "      <td>...</td>\n",
       "      <td>...</td>\n",
       "      <td>...</td>\n",
       "      <td>...</td>\n",
       "    </tr>\n",
       "    <tr>\n",
       "      <th>70</th>\n",
       "      <td>71</td>\n",
       "      <td>00000071</td>\n",
       "      <td>Renato Ribeiro</td>\n",
       "      <td>12</td>\n",
       "      <td>4600.0</td>\n",
       "    </tr>\n",
       "    <tr>\n",
       "      <th>71</th>\n",
       "      <td>72</td>\n",
       "      <td>00000072</td>\n",
       "      <td>Juliana Santos</td>\n",
       "      <td>9</td>\n",
       "      <td>4700.0</td>\n",
       "    </tr>\n",
       "    <tr>\n",
       "      <th>72</th>\n",
       "      <td>73</td>\n",
       "      <td>00000073</td>\n",
       "      <td>Gustavo Araújo</td>\n",
       "      <td>8</td>\n",
       "      <td>4800.0</td>\n",
       "    </tr>\n",
       "    <tr>\n",
       "      <th>73</th>\n",
       "      <td>74</td>\n",
       "      <td>00000074</td>\n",
       "      <td>Camila Pires</td>\n",
       "      <td>7</td>\n",
       "      <td>4900.0</td>\n",
       "    </tr>\n",
       "    <tr>\n",
       "      <th>74</th>\n",
       "      <td>75</td>\n",
       "      <td>00000075</td>\n",
       "      <td>Daniela Nunes</td>\n",
       "      <td>10</td>\n",
       "      <td>5000.0</td>\n",
       "    </tr>\n",
       "  </tbody>\n",
       "</table>\n",
       "<p>75 rows × 5 columns</p>\n",
       "</div>"
      ],
      "text/plain": [
       "    id        ra            Nome  tempoestudo  rendafamiliar\n",
       "0    1  00000001            None            0            NaN\n",
       "1    2  00000002            None            0            NaN\n",
       "2    3  00000003            None            0            NaN\n",
       "3    4  00000004            None            0            NaN\n",
       "4    5  00000005            None            0            NaN\n",
       "..  ..       ...             ...          ...            ...\n",
       "70  71  00000071  Renato Ribeiro           12         4600.0\n",
       "71  72  00000072  Juliana Santos            9         4700.0\n",
       "72  73  00000073  Gustavo Araújo            8         4800.0\n",
       "73  74  00000074    Camila Pires            7         4900.0\n",
       "74  75  00000075   Daniela Nunes           10         5000.0\n",
       "\n",
       "[75 rows x 5 columns]"
      ]
     },
     "execution_count": 12,
     "metadata": {},
     "output_type": "execute_result"
    }
   ],
   "source": [
    "#biblioteca para converter e resolver problema do @\n",
    "\n",
    "import urllib.parse\n",
    "\n",
    "user = \"root\"\n",
    "password = urllib.parse.quote_plus(\"senai@123\")\n",
    "\n",
    "# Qual o host e o banco?\n",
    "\n",
    "\n",
    "host = \"localhost\"\n",
    "database = \"projetodiario1\"\n",
    "\n",
    "\n",
    "# conecction_string : string com TODAS as informaçoes da conexão\n",
    "connection_string = f\"mysql+pymysql://{user}:{password}@{host}/{database}\"\n",
    "\n",
    "# criando a conexao \n",
    "engine =  create_engine(connection_string)\n",
    "\n",
    "# escrever uma consulta SQL\n",
    "query_alunos = \"SELECT * FROM aluno \"\n",
    "\n",
    "#Criar um DataFrame com a consulta SQL\n",
    "\n",
    "df_alunos = pd.read_sql(query_alunos,engine)\n",
    "df_alunos\n",
    "\n"
   ]
  },
  {
   "cell_type": "markdown",
   "metadata": {},
   "source": [
    "# Bibliotecas para DATA Science"
   ]
  },
  {
   "cell_type": "markdown",
   "metadata": {},
   "source": [
    "- Pandas (EDA - Analise Exploratoria de Dados)\n",
    "- Scikit-Learn (Fundamentos de Inteligencia Artificial )\n",
    "- NumPy ()"
   ]
  }
 ],
 "metadata": {
  "kernelspec": {
   "display_name": ".venv",
   "language": "python",
   "name": "python3"
  },
  "language_info": {
   "codemirror_mode": {
    "name": "ipython",
    "version": 3
   },
   "file_extension": ".py",
   "mimetype": "text/x-python",
   "name": "python",
   "nbconvert_exporter": "python",
   "pygments_lexer": "ipython3",
   "version": "3.12.3"
  }
 },
 "nbformat": 4,
 "nbformat_minor": 2
}
