{
 "cells": [
  {
   "cell_type": "markdown",
   "metadata": {},
   "source": [
    "## Operador ternário\n",
    "- Usar operador ternário quando as alternativas forem pequenas, e quando tiver apenas 2 ou no máximo 3 alternativas.\n",
    "- No exemplo a variável precisa ser inteira"
   ]
  },
  {
   "cell_type": "code",
   "execution_count": 10,
   "metadata": {},
   "outputs": [
    {
     "name": "stdout",
     "output_type": "stream",
     "text": [
      "karython é maior de idade.\n"
     ]
    }
   ],
   "source": [
    "nome = 'karython'\n",
    "idade = 18\n",
    "\n",
    "print(nome, 'é maior de idade.' if idade >= 18 else 'é menor de idade')"
   ]
  },
  {
   "cell_type": "markdown",
   "metadata": {},
   "source": [
    "## Replace\n",
    "- substituir"
   ]
  },
  {
   "cell_type": "code",
   "execution_count": 11,
   "metadata": {},
   "outputs": [
    {
     "name": "stdout",
     "output_type": "stream",
     "text": [
      "<class 'str'>\n",
      "<class 'float'>\n"
     ]
    }
   ],
   "source": [
    "peso = input(\"Digite seu peso: \").replace(',','.')\n",
    "print(type(peso))\n",
    "peso = float(peso)\n",
    "print(type(peso))\n"
   ]
  },
  {
   "cell_type": "markdown",
   "metadata": {},
   "source": [
    "## Desafio 01\n",
    "- Crie um programa para fazer a verificação de um cliente para saber se ele pode usar o brinquedo ou não.\n",
    "    - Para brincar ele precisa:\n",
    "        - ter mais que 12 anos\n",
    "        - ter altura minima de 1,20 mts"
   ]
  },
  {
   "cell_type": "code",
   "execution_count": 4,
   "metadata": {},
   "outputs": [
    {
     "name": "stdout",
     "output_type": "stream",
     "text": [
      "As informaçoes dadas nao corresponde ao requisitos minimo para entrar no brinquedo!\n"
     ]
    }
   ],
   "source": [
    "# TODO: Resposta desafio 01\n",
    "\n",
    "#variavel para armazenar idade e altura do usuario \n",
    "idade = input(\"Digite sua idade:\")\n",
    "altura = input(\"Digite sua altura:\").replace(',','.')\n",
    "\n",
    "#convertendo o tipo de variavel para Float\n",
    "idade = float(idade)\n",
    "altura = float(altura)\n",
    "\n",
    "if idade >= 12 and altura > 1.20:\n",
    "    print(\"Bem vindo, Idade e altura confere com os requisitos minimos!\")\n",
    "else:\n",
    "    print(\"As informaçoes dadas nao corresponde ao requisitos minimo para entrar no brinquedo!\")"
   ]
  },
  {
   "cell_type": "markdown",
   "metadata": {},
   "source": [
    "## Desafio 02\n",
    "- Crie um programa que verifica se o aluno poderar ir a praia.\n",
    "    - Para ir a praia ele precisa:\n",
    "        - Verifica se acordei de bom humor\n",
    "        - Verifica se o pai ja chegou em casa para leva-lo"
   ]
  },
  {
   "cell_type": "code",
   "execution_count": 10,
   "metadata": {},
   "outputs": [
    {
     "name": "stdout",
     "output_type": "stream",
     "text": [
      "Tudo certo para ir para praia!\n"
     ]
    }
   ],
   "source": [
    "# TODO: Resposta desafio 02\n",
    "\n",
    "#humor da criança e se o pai dela esta presente \n",
    "paiPresente = input(\"Seu pai esta em casa? sim/nao\")\n",
    "humor = input(\"Acordou de bom humor? sim/nao\")\n",
    "\n",
    "#se a criança estive acordado bem e o pai estiver em casa ela vai para praia caso o contrato nao vai\n",
    "if humor and paiPresente == \"sim\":\n",
    "    print (\"Tudo certo para ir para praia!\")  \n",
    "else:\n",
    "    print(\"deixe para ir para praia outro dia!\")"
   ]
  },
  {
   "cell_type": "markdown",
   "metadata": {},
   "source": [
    "## Desafio 03\n",
    "- Crie um programa que calcule o indice de massa corporal de um usuário\n",
    "    - pegue os valores de altura e peso\n",
    "        - use a conversão de valores\n",
    "        - use replace\n",
    "        - imprima se ele esta acima do peso ou nao"
   ]
  },
  {
   "cell_type": "code",
   "execution_count": 8,
   "metadata": {},
   "outputs": [
    {
     "name": "stdout",
     "output_type": "stream",
     "text": [
      "seu IMC esta abaixo abaixo da Media recomendada\n"
     ]
    }
   ],
   "source": [
    "# TODO: Resposta desafio 03\n",
    "\n",
    "#solucitando a altura e o peso do usuario\n",
    "altura = input(\"Digite Sua altura:\").replace(',','.')\n",
    "peso = input(\"DIgite o seu Peso:\").replace(',','.')\n",
    "\n",
    "#convertendo a variavel para float\n",
    "altura = float(altura)\n",
    "peso = float(peso)\n",
    "\n",
    "#variavel para calcular o imc = peso/(altura x altura)\n",
    "imc = peso/(altura * altura)\n",
    "\n",
    "#verificando se o imc esta acima a baixo ou na media recomendada\n",
    "if imc >=18.5 and imc <=24.9:\n",
    "    print (\"seu IMD ta normal, Parabens :D\")\n",
    "elif imc <= 18.4:\n",
    "    print(\"seu IMC esta abaixo abaixo da Media recomendada\")\n",
    "else:\n",
    "    print (\"Seu IMC esta acima da Media recomendada\") \n"
   ]
  },
  {
   "cell_type": "markdown",
   "metadata": {},
   "source": [
    "## Desafio 04\n",
    "- Crie uma calculadora de IMC\n",
    "    - Imprima as seguintes condições:?\n",
    "        - imc <17: está com anorexia.\n",
    "        - imc <18.5: está abaixo do peso\n",
    "        - imc <25: está no peso ideal.\n",
    "        - imc <30: está acima do peso.\n",
    "        - imc <35: está com grau de obesidade I.\n",
    "        - imc <40: está com grau de obesidade II.\n",
    "        - imc: está com grau de obesidade mórbida."
   ]
  },
  {
   "cell_type": "code",
   "execution_count": 8,
   "metadata": {},
   "outputs": [
    {
     "name": "stdout",
     "output_type": "stream",
     "text": [
      "Está com grau de obesidade Mórbida\n"
     ]
    }
   ],
   "source": [
    "# TODO: Resposta desafio 04\n",
    "\n",
    "#solucitando a altura e o peso do usuario\n",
    "altura = input(\"Digite Sua altura:\").replace(',','.')\n",
    "peso = input(\"DIgite o seu Peso:\").replace(',','.')\n",
    "\n",
    "#convertendo a variavel para float\n",
    "altura = float(altura)\n",
    "peso = float(peso)\n",
    "\n",
    "#variavel para calcular o imc = peso/(altura x altura)\n",
    "imc = peso/(altura * altura)\n",
    "\n",
    "#indicando em que classificação o Usuario esta de IMC\n",
    "if imc <17:\n",
    "    print(\"Está com anorexia.\")\n",
    "elif imc <18.5:\n",
    "    print(\"Está abaixo do peso\")\n",
    "elif imc <25:\n",
    "    print(\"Está no peso ideal\")\n",
    "elif imc <30:\n",
    "    print(\"Está acima do peso\")\n",
    "elif imc <35:\n",
    "    print(\"Está com grau de obesidade I\")\n",
    "elif imc <40:\n",
    "    print(\"Está com grau de obesidade II\")\n",
    "else:\n",
    "    print(\"Está com grau de obesidade Mórbida\")\n",
    "\n"
   ]
  },
  {
   "cell_type": "markdown",
   "metadata": {},
   "source": [
    "## Desafio 05\n",
    "- Crie uma calculadora basica.\n",
    "    - Solicite 2 números do usuário e pergunte qual operação matemática ele deseja fazer.\n",
    "        -   +; -; /; *\n",
    "        - imprima o resultado correto para cada operação"
   ]
  },
  {
   "cell_type": "code",
   "execution_count": 15,
   "metadata": {},
   "outputs": [
    {
     "name": "stdout",
     "output_type": "stream",
     "text": [
      "---------- CALCULADORA CMD ----------\n",
      "Digite 1 para ADIÇÃO\n",
      "Digite 2 para SUBTRAÇÃO\n",
      "Digite 3 para DIVISÃO\n",
      "Digite 4 para MULTIPLICAÇÃO\n",
      "A Multiplicação e  50.0\n"
     ]
    }
   ],
   "source": [
    "# TODO: Resposta desafio 05\n",
    "\n",
    "print (10*\"-\",\"CALCULADORA CMD\",10*\"-\")\n",
    "print (\"Digite 1 para ADIÇÃO\") \n",
    "print (\"Digite 2 para SUBTRAÇÃO\") \n",
    "print (\"Digite 3 para DIVISÃO\") \n",
    "print (\"Digite 4 para MULTIPLICAÇÃO\") \n",
    "\n",
    "\n",
    "resposta = input(\"Digite a operação matemática desejada: \")\n",
    "\n",
    "n1 = input(\"Digite o primerio Numero:\")\n",
    "n2 = input(\"Digite o segund Numero:\")\n",
    "\n",
    "\n",
    "resposta = int(resposta)\n",
    "\n",
    "n1 = float(n1)\n",
    "n2 = float(n2)\n",
    "\n",
    "adicao = n1+n2\n",
    "subtracao =n1-n2\n",
    "divisao = n1/n2\n",
    "multiplicacao = n1*n2\n",
    "\n",
    "if resposta == 1:\n",
    "    resposta = adicao\n",
    "    print (\"A Soma e \", adicao)\n",
    "elif resposta == 2:\n",
    "    resposta = subtracao\n",
    "    print (\"A Subtração e \", subtracao)\n",
    "elif resposta == 3:\n",
    "    resposta = divisao\n",
    "    print (\"A Divisão e\", divisao)\n",
    "elif resposta == 4:\n",
    "    resposta= multiplicacao\n",
    "    print (\"A Multiplicação e \",multiplicacao)\n",
    "else:\n",
    "    (\"Opção invalida!\")\n"
   ]
  }
 ],
 "metadata": {
  "kernelspec": {
   "display_name": "Python 3",
   "language": "python",
   "name": "python3"
  },
  "language_info": {
   "codemirror_mode": {
    "name": "ipython",
    "version": 3
   },
   "file_extension": ".py",
   "mimetype": "text/x-python",
   "name": "python",
   "nbconvert_exporter": "python",
   "pygments_lexer": "ipython3",
   "version": "3.12.3"
  }
 },
 "nbformat": 4,
 "nbformat_minor": 2
}
