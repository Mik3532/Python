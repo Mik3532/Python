{
 "cells": [
  {
   "cell_type": "markdown",
   "metadata": {},
   "source": [
    "### pandas\n",
    "\n",
    "## o que e?\n",
    "\n",
    "-Em programação de computadores, pandas é uma biblioteca de software criada para a linguagem Python para manipulação e análise de dados.\n",
    "\n",
    "## o que e Numpy?\n",
    "\n",
    "-NumPy é uma biblioteca para a linguagem de programação Python, que suporta o processamento de grandes, multi-dimensionais arranjos e matrizes, juntamente com uma grande coleção de funções matemáticas de alto nível para operar sobre estas matrizes. \n",
    "\n",
    "## como carregar dados no pandas?\n"
   ]
  },
  {
   "cell_type": "code",
   "execution_count": null,
   "metadata": {},
   "outputs": [],
   "source": [
    "import pandas as pd\n",
    "\n",
    "# Carregar dados de um arquivo CSV\n",
    "df = pd.read_csv('caminho/para/seu_arquivo.csv')\n",
    "\n",
    "# Exibir as primeiras linhas do DataFrame\n",
    "print(df.head())\n"
   ]
  },
  {
   "cell_type": "markdown",
   "metadata": {},
   "source": [
    "## Como criar um dataFrame?\n"
   ]
  },
  {
   "cell_type": "code",
   "execution_count": null,
   "metadata": {},
   "outputs": [],
   "source": [
    "import pandas as pd\n",
    "\n",
    "# Criar um dicionário\n",
    "data = {\n",
    "    'Nome': ['Alice', 'Bob', 'Charlie'],\n",
    "    'Idade': [25, 30, 35],\n",
    "    'Cidade': ['São Paulo', 'Rio de Janeiro', 'Belo Horizonte']\n",
    "}\n",
    "\n",
    "# Criar o DataFrame\n",
    "df = pd.DataFrame(data)\n",
    "\n",
    "# Exibir o DataFrame\n",
    "print(df)\n"
   ]
  },
  {
   "cell_type": "markdown",
   "metadata": {},
   "source": [
    "## O que são Series?\n",
    "\n",
    "Em Pandas, uma Series é uma estrutura de dados unidimensional que pode armazenar qualquer tipo de dados (inteiros, strings, floats, objetos Python, etc.). Uma Series é muito similar a um array unidimensional do NumPy, mas com a vantagem adicional de possuir etiquetas de índice, o que a torna muito poderosa para manipulação e análise de dados."
   ]
  },
  {
   "cell_type": "code",
   "execution_count": null,
   "metadata": {},
   "outputs": [],
   "source": [
    "import pandas as pd\n",
    "\n",
    "# Criar uma Series a partir de uma lista\n",
    "data = [10, 20, 30, 40, 50]\n",
    "series = pd.Series(data)\n",
    "\n",
    "print(series)\n"
   ]
  },
  {
   "cell_type": "markdown",
   "metadata": {},
   "source": [
    "## Como mostrar um cabeçalho?\n",
    "\n",
    "\n",
    "Mostrar um cabeçalho no rodapé de um DataFrame no Pandas pode ser entendido como exibir algumas das primeiras linhas e algumas das últimas linhas do DataFrame juntas. Isso pode ser útil para obter uma visão geral dos dados sem precisar percorrer todas as linhas.\n",
    "\n",
    "Aqui está como você pode fazer isso:\n",
    "\n",
    "Método 1: Usando pd.concat\n",
    "Você pode usar pd.concat para concatenar o cabeçalho (primeiras linhas) e o rodapé (últimas linhas) do DataFrame."
   ]
  },
  {
   "cell_type": "code",
   "execution_count": null,
   "metadata": {},
   "outputs": [],
   "source": [
    "import pandas as pd\n",
    "\n",
    "# Criar um exemplo de DataFrame\n",
    "data = {'A': range(1, 21), 'B': range(21, 41)}\n",
    "df = pd.DataFrame(data)\n",
    "\n",
    "# Número de linhas a serem exibidas no cabeçalho e no rodapé\n",
    "n = 3\n",
    "\n",
    "# Concatenar o cabeçalho e o rodapé\n",
    "head_tail = pd.concat([df.head(n), df.tail(n)])\n",
    "\n",
    "print(head_tail)\n"
   ]
  },
  {
   "cell_type": "markdown",
   "metadata": {},
   "source": [
    "Método 2: Usando df.iloc\n",
    "Você também pode usar o método iloc para selecionar e concatenar as primeiras e últimas linhas do DataFrame."
   ]
  },
  {
   "cell_type": "code",
   "execution_count": null,
   "metadata": {},
   "outputs": [],
   "source": [
    "import pandas as pd\n",
    "\n",
    "# Criar um exemplo de DataFrame\n",
    "data = {'A': range(1, 21), 'B': range(21, 41)}\n",
    "df = pd.DataFrame(data)\n",
    "\n",
    "# Número de linhas a serem exibidas no cabeçalho e no rodapé\n",
    "n = 3\n",
    "\n",
    "# Selecionar o cabeçalho e o rodapé usando iloc\n",
    "head_tail = df.iloc[list(range(n)) + list(range(-n, 0))]\n",
    "\n",
    "print(head_tail)\n"
   ]
  },
  {
   "cell_type": "code",
   "execution_count": null,
   "metadata": {},
   "outputs": [],
   "source": [
    "#EXEMPLO COMPLETO\n",
    "\n",
    "import pandas as pd\n",
    "\n",
    "# Criar um exemplo de DataFrame\n",
    "data = {\n",
    "    'Nome': ['Alice', 'Bob', 'Charlie', 'David', 'Edward', 'Fiona', 'George', 'Hannah', 'Ivan', 'Jack'],\n",
    "    'Idade': [25, 30, 35, 40, 45, 50, 55, 60, 65, 70],\n",
    "    'Cidade': ['São Paulo', 'Rio de Janeiro', 'Belo Horizonte', 'Curitiba', 'Porto Alegre', 'Salvador', 'Fortaleza', 'Manaus', 'Brasília', 'Recife']\n",
    "}\n",
    "df = pd.DataFrame(data)\n",
    "\n",
    "# Mostrar o cabeçalho e o rodapé (3 linhas de cada)\n",
    "print(show_head_tail(df, n=3))\n"
   ]
  },
  {
   "cell_type": "markdown",
   "metadata": {},
   "source": [
    "## Como ver a quantidade de entrada do DataFrame?"
   ]
  },
  {
   "cell_type": "code",
   "execution_count": null,
   "metadata": {},
   "outputs": [],
   "source": [
    "import pandas as pd\n",
    "\n",
    "# Criar um exemplo de DataFrame\n",
    "data = {\n",
    "    'Nome': ['Alice', 'Bob', 'Charlie', 'David', 'Edward', 'Fiona', 'George', 'Hannah', 'Ivan', 'Jack'],\n",
    "    'Idade': [25, 30, 35, 40, 45, 50, 55, 60, 65, 70],\n",
    "    'Cidade': ['São Paulo', 'Rio de Janeiro', 'Belo Horizonte', 'Curitiba', 'Porto Alegre', 'Salvador', 'Fortaleza', 'Manaus', 'Brasília', 'Recife']\n",
    "}\n",
    "df = pd.DataFrame(data)\n",
    "\n",
    "# Obter a quantidade de entradas (linhas) e colunas\n",
    "num_rows, num_cols = df.shape\n",
    "\n",
    "print(f\"Quantidade de entradas (linhas): {num_rows}\")\n",
    "print(f\"Quantidade de colunas: {num_cols}\")\n"
   ]
  },
  {
   "cell_type": "markdown",
   "metadata": {},
   "source": [
    "## Como retornar o número de linhas colunas de um DataFrame?"
   ]
  },
  {
   "cell_type": "code",
   "execution_count": null,
   "metadata": {},
   "outputs": [],
   "source": [
    "import pandas as pd\n",
    "\n",
    "# Criar um exemplo de DataFrame\n",
    "data = {\n",
    "    'Nome': ['Alice', 'Bob', 'Charlie', 'David', 'Edward', 'Fiona', 'George', 'Hannah', 'Ivan', 'Jack'],\n",
    "    'Idade': [25, 30, 35, 40, 45, 50, 55, 60, 65, 70],\n",
    "    'Cidade': ['São Paulo', 'Rio de Janeiro', 'Belo Horizonte', 'Curitiba', 'Porto Alegre', 'Salvador', 'Fortaleza', 'Manaus', 'Brasília', 'Recife']\n",
    "}\n",
    "df = pd.DataFrame(data)\n",
    "\n",
    "# Obter a quantidade de colunas\n",
    "num_colunas = df.columns.size\n",
    "\n",
    "print(f\"Número de colunas: {num_colunas}\")\n"
   ]
  },
  {
   "cell_type": "markdown",
   "metadata": {},
   "source": [
    "## Informaçoes do DataFrame?\n",
    "\n",
    "Para obter informações detalhadas sobre um DataFrame no Pandas, você pode usar o método .info(), que fornece um resumo do DataFrame, incluindo o número de entradas, colunas, tipo de dados de cada coluna, e memória utilizada. Além disso, existem outros métodos úteis que fornecem diferentes tipos de informações. Aqui estão algumas das principais maneiras de obter informações sobre um DataFrame:"
   ]
  },
  {
   "cell_type": "code",
   "execution_count": null,
   "metadata": {},
   "outputs": [],
   "source": [
    "import pandas as pd\n",
    "\n",
    "# Criar um exemplo de DataFrame\n",
    "data = {\n",
    "    'Nome': ['Alice', 'Bob', 'Charlie', 'David', 'Edward', 'Fiona', 'George', 'Hannah', 'Ivan', 'Jack'],\n",
    "    'Idade': [25, 30, 35, 40, 45, 50, 55, 60, 65, 70],\n",
    "    'Cidade': ['São Paulo', 'Rio de Janeiro', 'Belo Horizonte', 'Curitiba', 'Porto Alegre', 'Salvador', 'Fortaleza', 'Manaus', 'Brasília', 'Recife']\n",
    "}\n",
    "df = pd.DataFrame(data)\n",
    "\n",
    "# Obter informações sobre o DataFrame\n",
    "df.info()\n"
   ]
  },
  {
   "cell_type": "markdown",
   "metadata": {},
   "source": [
    "## Describe \n",
    "\n",
    "O método .describe() fornece estatísticas descritivas para colunas numéricas por padrão. Para incluir colunas não numéricas, use o parâmetro include='all'."
   ]
  },
  {
   "cell_type": "code",
   "execution_count": null,
   "metadata": {},
   "outputs": [],
   "source": [
    "import pandas as pd\n",
    "\n",
    "# Criar um exemplo de DataFrame\n",
    "data = {\n",
    "    'Nome': ['Alice', 'Bob', 'Charlie', 'David', 'Edward', 'Fiona', 'George', 'Hannah', 'Ivan', 'Jack'],\n",
    "    'Idade': [25, 30, 35, 40, 45, 50, 55, 60, 65, 70],\n",
    "    'Cidade': ['São Paulo', 'Rio de Janeiro', 'Belo Horizonte', 'Curitiba', 'Porto Alegre', 'Salvador', 'Fortaleza', 'Manaus', 'Brasília', 'Recife']\n",
    "}\n",
    "df = pd.DataFrame(data)\n",
    "\n",
    "# Obter estatísticas descritivas\n",
    "print(df.describe())\n"
   ]
  },
  {
   "cell_type": "markdown",
   "metadata": {},
   "source": [
    "## .head() e .tail()"
   ]
  },
  {
   "cell_type": "code",
   "execution_count": null,
   "metadata": {},
   "outputs": [],
   "source": [
    "import pandas as pd\n",
    "\n",
    "# Criar um exemplo de DataFrame\n",
    "data = {\n",
    "    'Nome': ['Alice', 'Bob', 'Charlie', 'David', 'Edward', 'Fiona', 'George', 'Hannah', 'Ivan', 'Jack'],\n",
    "    'Idade': [25, 30, 35, 40, 45, 50, 55, 60, 65, 70],\n",
    "    'Cidade': ['São Paulo', 'Rio de Janeiro', 'Belo Horizonte', 'Curitiba', 'Porto Alegre', 'Salvador', 'Fortaleza', 'Manaus', 'Brasília', 'Recife']\n",
    "}\n",
    "df = pd.DataFrame(data)\n",
    "\n",
    "# Exibir as primeiras 5 linhas do DataFrame\n",
    "print(df.head())\n",
    "\n",
    "# Exibir as últimas 5 linhas do DataFrame\n",
    "print(df.tail())\n"
   ]
  },
  {
   "cell_type": "markdown",
   "metadata": {},
   "source": [
    "## .columns e .index"
   ]
  },
  {
   "cell_type": "code",
   "execution_count": null,
   "metadata": {},
   "outputs": [],
   "source": [
    "import pandas as pd\n",
    "\n",
    "# Criar um exemplo de DataFrame\n",
    "data = {\n",
    "    'Nome': ['Alice', 'Bob', 'Charlie', 'David', 'Edward', 'Fiona', 'George', 'Hannah', 'Ivan', 'Jack'],\n",
    "    'Idade': [25, 30, 35, 40, 45, 50, 55, 60, 65, 70],\n",
    "    'Cidade': ['São Paulo', 'Rio de Janeiro', 'Belo Horizonte', 'Curitiba', 'Porto Alegre', 'Salvador', 'Fortaleza', 'Manaus', 'Brasília', 'Recife']\n",
    "}\n",
    "df = pd.DataFrame(data)\n",
    "\n",
    "# Obter os nomes das colunas\n",
    "print(df.columns)\n",
    "\n",
    "# Obter os rótulos dos índices\n",
    "print(df.index)\n"
   ]
  },
  {
   "cell_type": "markdown",
   "metadata": {},
   "source": [
    "## .dtypes"
   ]
  },
  {
   "cell_type": "code",
   "execution_count": null,
   "metadata": {},
   "outputs": [],
   "source": [
    "import pandas as pd\n",
    "\n",
    "# Criar um exemplo de DataFrame\n",
    "data = {\n",
    "    'Nome': ['Alice', 'Bob', 'Charlie', 'David', 'Edward', 'Fiona', 'George', 'Hannah', 'Ivan', 'Jack'],\n",
    "    'Idade': [25, 30, 35, 40, 45, 50, 55, 60, 65, 70],\n",
    "    'Cidade': ['São Paulo', 'Rio de Janeiro', 'Belo Horizonte', 'Curitiba', 'Porto Alegre', 'Salvador', 'Fortaleza', 'Manaus', 'Brasília', 'Recife']\n",
    "}\n",
    "df = pd.DataFrame(data)\n",
    "\n",
    "# Obter os tipos de dados de cada coluna\n",
    "print(df.dtypes)\n"
   ]
  },
  {
   "cell_type": "markdown",
   "metadata": {},
   "source": [
    "## O que e I.A?\n",
    "\n",
    "A inteligência artificial é um campo de estudo multidisciplinar que abrange varias áreas do conhecimento. É também um conjunto de novas tecnologias que permitem aos aparelhos smart executarem várias funções avançadas de modo quase autônomo, representanto um marco histórico na computação moderna.\n",
    "\n",
    "## O que e DeepLearning\n",
    "\n",
    "A aprendizagem profunda, do inglês Deep Learning é um ramo de aprendizado de máquina baseado em um conjunto de algoritmos que tentam modelar abstrações de alto nível de dados usando um grafo profundo com várias camadas de processamento, compostas de várias transformações lineares e não lineares. \n",
    "\n",
    "## Quais Problmeas a IA pode resolver\n",
    "\n",
    "problemas matemáticos, análises de perfil para sistemas de recomendação, prevenção de fraudes em sistemas financeiros, etc\n",
    "\n",
    "## Funçoes \n",
    "\n",
    "As funções são definidas por relacionar constantes e variáveis para descrever fenômenos naturais e tecnológicos, estudadas em diversas áreas do conhecimento.[4] Deve-se notar que as palavras \"função\", \"mapeamento\", \"mapa\" e \"transformação\" são geralmente usadas como termos equivalentes. Muitas leis científicas e muitos princípios de Engenharia descrevem função como uma quantidade dependendo de outra. \n",
    "\n",
    "## Como limpar dados NaN-Na \n",
    "\n",
    "Para limpar dados que contêm valores NaN (Not a Number) ou NA (Not Available) em um DataFrame no Pandas, você pode utilizar vários métodos. Aqui estão alguns dos mais comuns:\n",
    "\n",
    "1. Remover linhas ou colunas com NaN\n",
    "Remover linhas com NaN\n",
    "Você pode usar o método dropna() para remover todas as linhas que contêm NaN."
   ]
  },
  {
   "cell_type": "code",
   "execution_count": null,
   "metadata": {},
   "outputs": [],
   "source": [
    "import pandas as pd\n",
    "\n",
    "# Criar um exemplo de DataFrame\n",
    "data = {\n",
    "    'A': [1, 2, None, 4, 5],\n",
    "    'B': [None, 2, 3, None, 5],\n",
    "    'C': [1, None, 3, 4, None]\n",
    "}\n",
    "df = pd.DataFrame(data)\n",
    "\n",
    "# Remover linhas que contêm qualquer `NaN`\n",
    "df_sem_nan = df.dropna()\n",
    "\n",
    "print(df_sem_nan)\n"
   ]
  }
 ],
 "metadata": {
  "language_info": {
   "name": "python"
  }
 },
 "nbformat": 4,
 "nbformat_minor": 2
}
