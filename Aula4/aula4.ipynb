{
 "cells": [
  {
   "cell_type": "code",
   "execution_count": 1,
   "metadata": {},
   "outputs": [
    {
     "name": "stdout",
     "output_type": "stream",
     "text": [
      "if é verdadeiro \n",
      "finalizou o codigo \n"
     ]
    }
   ],
   "source": [
    "# if e else , se a consição for verdadeira execute se nao execute a segunda opção \n",
    "\n",
    "programador = True\n",
    "\n",
    "if programador: #condição \n",
    "\n",
    "    #se o if for verdadeiro execute esse comando \n",
    "    print (\"if é verdadeiro \")\n",
    "\n",
    "else: #sempre ultizile o : \n",
    "\n",
    "    #se o if for falso execute esse comando \n",
    "    print (\"if Falso\")\n",
    "\n",
    "print(\"finalizou o codigo \")\n"
   ]
  },
  {
   "cell_type": "code",
   "execution_count": 5,
   "metadata": {},
   "outputs": [
    {
     "name": "stdout",
     "output_type": "stream",
     "text": [
      "É maior de idade!\n"
     ]
    }
   ],
   "source": [
    "idade = int(input(\"Digite a sua idade: \"))\n",
    "\n",
    "if idade >= 18:\n",
    "    print (\"É maior de idade!\")\n",
    "else:\n",
    "    print(\"É menor de idade!\")"
   ]
  },
  {
   "cell_type": "markdown",
   "metadata": {},
   "source": [
    "AND, OR, NOT \n",
    "\n",
    "AND : E\n",
    "\n",
    "OR :  OU \n",
    "\n",
    "NOT :  NÃO\n",
    "\n",
    "AND basicamente quando ambas condiçoes sao verdadeiras\n",
    "\n",
    "OR basicamente quando uma ou outra codnição e verdadeira \n",
    "\n",
    "NOT quando as condiçoes nao e verdadeira "
   ]
  },
  {
   "cell_type": "code",
   "execution_count": 9,
   "metadata": {},
   "outputs": [],
   "source": [
    "idade = 15\n",
    "altura = 1.75\n",
    "\n",
    "if idade >= 18 and altura > 1.60:\n",
    "    print(\"pode brincar na montanha russa!\")\n",
    "else:\n",
    "    (\"sai daqui criança pequena \")"
   ]
  },
  {
   "cell_type": "markdown",
   "metadata": {},
   "source": [
    "ATIVIDADE \n",
    "\n",
    "- veriricar se o numero e impa ou pa"
   ]
  },
  {
   "cell_type": "code",
   "execution_count": 11,
   "metadata": {},
   "outputs": [
    {
     "name": "stdout",
     "output_type": "stream",
     "text": [
      "Seu numero e impa \n"
     ]
    }
   ],
   "source": [
    "#O usuario vai digitar um numero e o programa vai verificar se o numero e par ou impa \n",
    "n = int(input(\"digite um numero:\"))\n",
    "\n",
    "#condição se o o resto da divisão dividido por 2 igual a 0, se sim vai ser if se nao vai ser else \n",
    "if n % 2 == 0:\n",
    "    print(f\"O Numero que voce digitou: {n} ele e Par \")\n",
    "else:\n",
    "    print(f\"O numero que voce digitou: {n} ele e Impa  \")"
   ]
  },
  {
   "cell_type": "markdown",
   "metadata": {},
   "source": [
    "ATIVIDADE 2 \n",
    "\n",
    "- Um elevador de carga possui uma capacidade para 200kg \n",
    "    -crie um programa que receba do usuario o peso de carga,ou seu peso e verifica carga esta autorizada a usar o elevador ou nao"
   ]
  },
  {
   "cell_type": "code",
   "execution_count": 19,
   "metadata": {},
   "outputs": [
    {
     "name": "stdout",
     "output_type": "stream",
     "text": [
      "ta liberado\n"
     ]
    }
   ],
   "source": [
    "#usuario vai digitar os dados\n",
    "pesoUsuario = float(input(\"Digite seu peso:\"))\n",
    "carga = float(input(\"Digite o peso da carga \"))\n",
    "\n",
    "#se o peso total do usuario for menor que 200 ele pode entra se nao vaza\n",
    "if pesoUsuario + carga <=200:\n",
    "    print(\"ta liberado\")\n",
    "else:\n",
    "    print(\"vaza mlk\")"
   ]
  },
  {
   "cell_type": "markdown",
   "metadata": {},
   "source": [
    "Uso do Elif\n",
    "\n",
    "sempre que voce abrir um IF vc tem que fecha com um ELSE\n",
    "mas as vezes e necessario fazer mais um um IF entao vai ultilizar o ELIF "
   ]
  },
  {
   "cell_type": "code",
   "execution_count": 23,
   "metadata": {},
   "outputs": [
    {
     "name": "stdout",
     "output_type": "stream",
     "text": [
      "O Mik está reporvado kkkkk\n"
     ]
    }
   ],
   "source": [
    "nome = \"Mik\"\n",
    "nota = 4\n",
    "\n",
    "if nota >= 7:\n",
    "    print(f\"O {nome} Foi Aprovado!\")\n",
    "elif nota >=5:\n",
    "    print(f\"O {nome} Esta de recuperação!\")\n",
    "else:\n",
    "    print(f\"O {nome} está reporvado kkkkk\")"
   ]
  },
  {
   "cell_type": "markdown",
   "metadata": {},
   "source": [
    "## Desafio 3\n",
    "- Crie um sistema para coletar os dados do aluno, (nome, idade, cpf), em seguida solicite as notas dos 4 bimestres da diciplina de Python que o aluno teve para verificar a MEDIA.\n",
    "    - Media para aprovação >= 7\n",
    "    - Media para recuperação >= 5\n",
    "    - Media para reprovação = <5\n",
    "- Para retirar o boletim de notas, o aluno precisa ser maior de idade(18) e caso não seja, somente os pais podem retirar o boletim.\n",
    "    - Imprima as informações do aluno\n",
    "    - Imprima as notas do aluno em cada bimestre\n",
    "    - Imprima a situação do aluno (aprovado, reprovado, recuperação)\n",
    "    - Imprima se o boletim sera retirado pelos pais ou pelo proprio aluno"
   ]
  },
  {
   "cell_type": "code",
   "execution_count": null,
   "metadata": {},
   "outputs": [
    {
     "ename": "",
     "evalue": "",
     "output_type": "error",
     "traceback": [
      "\u001b[1;31mRunning cells with 'venv (Python 3.12.3)' requires the ipykernel package.\n",
      "\u001b[1;31mRun the following command to install 'ipykernel' into the Python environment. \n",
      "\u001b[1;31mCommand: 'c:/Users/mique/OneDrive/Documentos/GitHub/Python/venv/Scripts/python.exe -m pip install ipykernel -U --force-reinstall'"
     ]
    }
   ],
   "source": [
    "#solicitando dados do usuario \n",
    "nome  = (input(\"Digite o Nome do Aluno:\")).upper()\n",
    "idade = (input(\"Digite a idade do aluno:\"))\n",
    "cpf = (input(\"Digite o CPF do Auno:\"))\n",
    "\n",
    "#alterando a class da variavel idade de string para float\n",
    "idade = float(idade)\n",
    "\n",
    "#solicitando as notas do aluno\n",
    "n1 = (input(\"Digite a nota do 1° Bimestre:\")) \n",
    "n2 = (input(\"Digite a nota do 2° Bimestre:\")) \n",
    "n3 = (input(\"Digite a nota do 3° Bimestre:\")) \n",
    "n4 = (input(\"Digite a nota do 4° Bimestre:\")) \n",
    "\n",
    "#mudando a variavel de string para float\n",
    "n1=float(n1)\n",
    "n2=float(n2)\n",
    "n3=float(n3)\n",
    "n4=float(n4)\n",
    "\n",
    "#variavel apra calcular a media do aluno \n",
    "media =  (n1+n2+n3+n4)/4\n",
    "\n",
    "\n",
    "#se o aluno tirou nota 7 acima aprovado, 5 a 6 recuperação, 4 a baixo reprovado\n",
    "if media  >= 7:\n",
    "    print(f\"O Aluno {nome} Foi Aprovado!\")\n",
    "elif media >=5:\n",
    "    print(f\"O Aluno {nome} Esta de recuperação!\")\n",
    "else:\n",
    "    print(f\"O {nome} está reprovado\")\n",
    "\n",
    "print(15*\"-\",\"BOLETIM FINAL\",15*\"-\")\n",
    "#se o aluno for maior de 18 anos ele pode retirar o boletim \n",
    "if idade >=18:\n",
    "    print(f\"O Aluno {nome} de CPF N°: {cpf} Pode retirar o Boletim!\")\n",
    "    print(f\"As notas Do curso de Python foram \\n1°B: {n1}\\n2°B: {n2}\\n3°B: {n3}\\n4°B: {n4}\\nEntão a media foi {media}!\")\n",
    "else:\n",
    "    print(f\"Para retirar o Boletim o Aluno {nome} de CPF N°: {cpf}\\nDeve está acompanhado pelo responsavel legal\")\n",
    "\n",
    "\n",
    "print(35*\"-\")"
   ]
  }
 ],
 "metadata": {
  "kernelspec": {
   "display_name": "venv",
   "language": "python",
   "name": "python3"
  },
  "language_info": {
   "codemirror_mode": {
    "name": "ipython",
    "version": 3
   },
   "file_extension": ".py",
   "mimetype": "text/x-python",
   "name": "python",
   "nbconvert_exporter": "python",
   "pygments_lexer": "ipython3",
   "version": "3.12.3"
  }
 },
 "nbformat": 4,
 "nbformat_minor": 2
}
