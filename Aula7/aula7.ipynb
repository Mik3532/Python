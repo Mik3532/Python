{
 "cells": [
  {
   "cell_type": "code",
   "execution_count": 1,
   "metadata": {},
   "outputs": [
    {
     "name": "stdout",
     "output_type": "stream",
     "text": [
      "0\n",
      "2\n",
      "4\n",
      "6\n",
      "8\n",
      "10\n",
      "12\n",
      "14\n",
      "16\n",
      "18\n",
      "20\n"
     ]
    }
   ],
   "source": [
    "for i in range(0,21):\n",
    "    if i % 2 == 0 :\n",
    "        print(i)"
   ]
  },
  {
   "cell_type": "code",
   "execution_count": 5,
   "metadata": {},
   "outputs": [
    {
     "name": "stdout",
     "output_type": "stream",
     "text": [
      "         ☆          \n",
      "         *          \n",
      "        ***         \n",
      "       *****        \n",
      "      *******       \n",
      "     *********      \n",
      "    ***********     \n",
      "   *************    \n",
      "  ***************   \n",
      " *****************  \n",
      "******************* \n",
      "\n",
      "\n"
     ]
    }
   ],
   "source": [
    "print('☆'.center(20)) \n",
    "for i in range(1, 20, 2):\n",
    "    print(('*'*i).center(20))\n",
    "for r in range(2):\n",
    "     \n",
    " print()\n",
    "\n"
   ]
  },
  {
   "cell_type": "code",
   "execution_count": 9,
   "metadata": {},
   "outputs": [
    {
     "name": "stdout",
     "output_type": "stream",
     "text": [
      "4\n"
     ]
    }
   ],
   "source": [
    "import random\n",
    "\n",
    "nome1 = input(\"Digite um nome: \")\n",
    "nome2 = input(\"Digite um nome: \")\n",
    "nome3 = input(\"Digite um nome: \")\n",
    "nome4 = input(\"Digite um nome: \")\n",
    "nome5 = input(\"Digite um nome: \")\n",
    "\n",
    "lista_nome = (nome1,nome2,nome3,nome4,nome5)\n",
    "\n",
    "escolhido = random.choice(lista_nome)\n",
    "\n",
    "print(escolhido)"
   ]
  },
  {
   "cell_type": "code",
   "execution_count": 12,
   "metadata": {},
   "outputs": [
    {
     "name": "stdout",
     "output_type": "stream",
     "text": [
      "\n"
     ]
    }
   ],
   "source": [
    "\n",
    "lista_nome = []\n",
    "\n",
    "while True:\n",
    "    nome = input(\"Digite os nomes que serao sorteador: \")\n",
    "    if nome != \"\":\n",
    "        lista_nome.append(nome)\n",
    "    else:\n",
    "        break\n",
    "escolhido = random.choice(lista_nome)\n",
    "print(escolhido)  "
   ]
  }
 ],
 "metadata": {
  "kernelspec": {
   "display_name": "venv",
   "language": "python",
   "name": "python3"
  },
  "language_info": {
   "codemirror_mode": {
    "name": "ipython",
    "version": 3
   },
   "file_extension": ".py",
   "mimetype": "text/x-python",
   "name": "python",
   "nbconvert_exporter": "python",
   "pygments_lexer": "ipython3",
   "version": "3.12.3"
  }
 },
 "nbformat": 4,
 "nbformat_minor": 2
}
