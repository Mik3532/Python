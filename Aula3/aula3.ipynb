{
 "cells": [
  {
   "cell_type": "markdown",
   "metadata": {},
   "source": [
    "\n",
    " "
   ]
  },
  {
   "cell_type": "code",
   "execution_count": 3,
   "metadata": {},
   "outputs": [
    {
     "name": "stdout",
     "output_type": "stream",
     "text": [
      "divisão inteira: 1\n",
      "divisão normal 1.6666666666666667\n",
      "resto: 2\n",
      "exponenciação: 125\n"
     ]
    }
   ],
   "source": [
    "#mostrando o estudando em divisao inteiro, divisao normal, resto da divisao e exponenciação \n",
    "\n",
    "n1 = (input(\"Digite o primeiro numero:\"))\n",
    "n2 = (input(\"Digite o segundo numero:\"))\n",
    "\n",
    "#convertendo as entradas para inteiro \n",
    "\n",
    "n1 = int(n1)\n",
    "n2 = int(n2)\n",
    "\n",
    "divisaoInteira = n1 // n2\n",
    "divisao = n1 / n2\n",
    "resto = n1%n2 \n",
    "expo = n1**n2\n",
    "\n",
    "print (f\"divisão inteira: {divisaoInteira}\")\n",
    "print (f\"divisão normal {divisao}\")\n",
    "print (f\"resto: {resto}\")\n",
    "print (f\"exponenciação: {expo}\")"
   ]
  },
  {
   "cell_type": "code",
   "execution_count": 5,
   "metadata": {},
   "outputs": [
    {
     "name": "stdout",
     "output_type": "stream",
     "text": [
      "Resultado de atribuição de subtração 0\n",
      "Resultado de atribuição de Soma 10\n",
      "Resultado de atribuição de Multiplicação 100\n",
      "Resultado de atribuição de divisão 10.0\n"
     ]
    }
   ],
   "source": [
    "#Atribuição subtração \n",
    "\n",
    "valor = 10\n",
    "valor -= 10\n",
    "\n",
    "print (f\"Resultado de atribuição de subtração {valor}\")\n",
    "\n",
    "# atribuindo a variavel somando\n",
    "valor += 10\n",
    "print (f\"Resultado de atribuição de Soma {valor}\")\n",
    "\n",
    "#atribuindo a variavel multiplicação\n",
    "valor *= 10\n",
    "print (f\"Resultado de atribuição de Multiplicação {valor}\")\n",
    "\n",
    "#atribuindo a variavel divisão \n",
    "valor /= 10\n",
    "print (f\"Resultado de atribuição de divisão {valor}\")"
   ]
  },
  {
   "cell_type": "code",
   "execution_count": 9,
   "metadata": {},
   "outputs": [
    {
     "name": "stdout",
     "output_type": "stream",
     "text": [
      "Resultado de atribuição de Modulo 0.0\n"
     ]
    }
   ],
   "source": [
    "# Atribuição de modulo \n",
    "\n",
    "valor %= 10\n",
    "\n",
    "print (f\"Resultado de atribuição de Modulo {valor}\")"
   ]
  },
  {
   "cell_type": "markdown",
   "metadata": {},
   "source": [
    "ATIVIDADE \n",
    "\n",
    "-Crie um programa para o boletim de notas. guarde o nome do aluno e as notas e calcule a media final do aluno\n",
    "\n",
    "-disciplina\n",
    "\n",
    "    -Matemática\n",
    "    -Português\n",
    "    -Historia\n",
    "    -fìsica \n",
    "\n",
    "-Ao obter as notas e a media de notas, imprima o boletim do aluno informando as notas de materias e com quanto ele ficou de media "
   ]
  },
  {
   "cell_type": "code",
   "execution_count": 19,
   "metadata": {},
   "outputs": [
    {
     "name": "stdout",
     "output_type": "stream",
     "text": [
      "SEGUE AS NOTAS DO ALUNO Mik\n",
      "A Media de Matemàtica: 10.0\n",
      "A Media de Portugues : 10.0\n",
      "A Media de Geografia: 10.0\n",
      "A Media de Historia: 10.0\n",
      "A Media de Fisica:10.0 \n",
      "A media do aluno Mik e 10.0\n"
     ]
    }
   ],
   "source": [
    "#salvando o nome do aluno na variavel nome\n",
    "nome = (input(\"DIgite o nome do aluno:\"))\n",
    "\n",
    "#armazenando a nota das materias do aluno\n",
    "matematica = input(\"Digite a nota de Matemàtica do aluno:\")\n",
    "matematica = float(matematica)\n",
    "portugues = input(\"Digite a nota de portugues do aluno:\")\n",
    "portugues = float(portugues)\n",
    "geografia = input(\"Digite a nota de geografia do aluno:\")\n",
    "geografia = float(geografia)\n",
    "historia = input(\"Digite a nota de Historia do aluno\")\n",
    "historia = float(historia)\n",
    "fisica = input(\"Digite a nota de fisica do aluno:\")\n",
    "fisica =  float(fisica)\n",
    "\n",
    "\n",
    "#fazendo a soma da media \n",
    "media= (matematica + portugues + geografia + historia+ fisica)/5\n",
    "\n",
    "#imprimindo as infomraçoes fornecidas \n",
    "print (f\"SEGUE AS NOTAS DO ALUNO {nome}\")\n",
    "print (f\"A Media de Matemàtica: {matematica}\")\n",
    "print (f\"A Media de Portugues : {portugues}\")\n",
    "print (f\"A Media de Geografia: {geografia}\")\n",
    "print (f\"A Media de Historia: {historia}\")\n",
    "print (f\"A Media de Fisica:{fisica}\")\n",
    "print (f\"A media do aluno {nome} e {media}\")"
   ]
  }
 ],
 "metadata": {
  "kernelspec": {
   "display_name": "Python 3",
   "language": "python",
   "name": "python3"
  },
  "language_info": {
   "codemirror_mode": {
    "name": "ipython",
    "version": 3
   },
   "file_extension": ".py",
   "mimetype": "text/x-python",
   "name": "python",
   "nbconvert_exporter": "python",
   "pygments_lexer": "ipython3",
   "version": "3.12.3"
  }
 },
 "nbformat": 4,
 "nbformat_minor": 2
}
