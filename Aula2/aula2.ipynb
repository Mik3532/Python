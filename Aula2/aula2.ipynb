{
 "cells": [
  {
   "cell_type": "markdown",
   "metadata": {},
   "source": [
    "Revisão \n",
    "\n",
    "-Declaração de variavel \n",
    "    -como declarar uma variavel\n",
    "    -como converter o tipo de variavel\n",
    "    -como restringir uma variavel \n",
    "-concatenação \n",
    "    -qual a excessão usando a concatenação + (nao concatena numero inteiros )\n",
    "-algoritimo \n",
    "    -Sequencia lógica de instruçoes de intruçoes para resolver um problemas específico "
   ]
  },
  {
   "cell_type": "code",
   "execution_count": 1,
   "metadata": {},
   "outputs": [
    {
     "name": "stdout",
     "output_type": "stream",
     "text": [
      "Aluno Mik Alves de idade 23 faz o curso de Python\n",
      "<class 'int'>\n"
     ]
    }
   ],
   "source": [
    "#Derlaração de varivavel \n",
    "\n",
    "nome = \"Mik\"\n",
    "sobreNome = \"Alves\"\n",
    "curso = \"Python\"\n",
    "idade = 23\n",
    "\n",
    "print (f\"Aluno {nome} {sobreNome} de idade {idade} faz o curso de {curso}\")\n",
    "print (type(idade)) "
   ]
  },
  {
   "cell_type": "markdown",
   "metadata": {},
   "source": [
    "\n",
    "# mudando o tipo de variavel de INTEIRO para TEXTO (STRING)"
   ]
  },
  {
   "cell_type": "code",
   "execution_count": null,
   "metadata": {},
   "outputs": [],
   "source": [
    "idade = str(idade)\n",
    "print (type(idade))"
   ]
  },
  {
   "cell_type": "code",
   "execution_count": 2,
   "metadata": {},
   "outputs": [],
   "source": [
    "nome2 = input(\"Qual seu Nome:\")\n",
    "idade2 = int(input(\"Digite sua idade: \"))\n",
    "print (f\"Ola, Bem vindo(a) '{nome2} voce tem {idade2} anos então voce e corno\")\n",
    "print (type(nome2), type(idade2))"
   ]
  },
  {
   "cell_type": "markdown",
   "metadata": {},
   "source": [
    "OPERADORES \n",
    "\n",
    "°soma +\n",
    "°subtração -\n",
    "°duvisão /\n",
    "°multiplicação *"
   ]
  },
  {
   "cell_type": "code",
   "execution_count": 5,
   "metadata": {},
   "outputs": [
    {
     "name": "stdout",
     "output_type": "stream",
     "text": [
      " usando como concatenação : 1010\n",
      "usando como soma:  20\n",
      "O resultado da soma é 30\n"
     ]
    }
   ],
   "source": [
    "soma = 10 + 10\n",
    "\n",
    "print (\" usando como concatenação : 10\"+\"10\")\n",
    "print (\"usando como soma: \",10+10)\n"
   ]
  },
  {
   "cell_type": "code",
   "execution_count": 8,
   "metadata": {},
   "outputs": [
    {
     "name": "stdout",
     "output_type": "stream",
     "text": [
      "O resultado da soma é 30\n"
     ]
    }
   ],
   "source": [
    "#somando\n",
    "\n",
    "num1 = 10\n",
    "num2 = 20\n",
    "\n",
    "soma = num1 + num2 \n",
    "print (f\"A Soma entre o numero {num1} e {num2}: {soma}\")"
   ]
  },
  {
   "cell_type": "code",
   "execution_count": 6,
   "metadata": {},
   "outputs": [
    {
     "name": "stdout",
     "output_type": "stream",
     "text": [
      "O resultado da subtração : -10\n"
     ]
    }
   ],
   "source": [
    "#subtração \n",
    "\n",
    "subtracao = num1 - num2\n",
    "\n",
    "print (f\"O resultado da subtração : {subtracao}\")"
   ]
  },
  {
   "cell_type": "code",
   "execution_count": 7,
   "metadata": {},
   "outputs": [
    {
     "name": "stdout",
     "output_type": "stream",
     "text": [
      "A multicaplição entre o numero 10 e 20: 200\n"
     ]
    }
   ],
   "source": [
    "#Multiplicação \n",
    "\n",
    "multiplicacao = num1 * num2\n",
    "\n",
    "print (f\"A multicaplição entre o numero {num1} e {num2}: {multiplicacao}\")"
   ]
  },
  {
   "cell_type": "code",
   "execution_count": 9,
   "metadata": {},
   "outputs": [
    {
     "name": "stdout",
     "output_type": "stream",
     "text": [
      "A divisão entre o numero 10 e 20: 0.5\n"
     ]
    }
   ],
   "source": [
    "#Divisão \n",
    "\n",
    "divisao = num1 / num2\n",
    "\n",
    "print (f\"A divisão entre o numero {num1} e {num2}: {divisao}\")"
   ]
  },
  {
   "cell_type": "markdown",
   "metadata": {},
   "source": [
    "                                                                                        DESAFIO \n",
    "            -Declare 2 variaveis, cada uma com um valor, e some os resultados contatenados a um texto.\n",
    "\n",
    "            - Crie um sistema onde o usuário irá inserir em dois valores, guarde cada valor em variáveis, em seguidas voces irão realizar as 4 operaçoes basicas (+,-,/,*)\n",
    "            mostre esses resultados na tela, tambem contaneados em um texto indicativo de cada operação \n",
    "\n",
    "            - Crie um sistema que receba o nome do usuario, a idade podendo aceitar numero inteiro, em seguida mostre o nome e idade do usuario e peça que Digite 2 numero para que sejam somados. mostrar por ultimo a soma realizada para o usuario. "
   ]
  },
  {
   "cell_type": "code",
   "execution_count": 10,
   "metadata": {},
   "outputs": [
    {
     "name": "stdout",
     "output_type": "stream",
     "text": [
      "A Soma entre o numero 10 e 20: 3\n"
     ]
    }
   ],
   "source": [
    "\n",
    "numero1 = 1\n",
    "numero2 = 2\n",
    "\n",
    "soma = numero1 + numero2\n",
    "\n",
    "print (f\"A Soma entre o numero {num1} e {num2}: {soma}\")"
   ]
  },
  {
   "cell_type": "code",
   "execution_count": 23,
   "metadata": {},
   "outputs": [
    {
     "name": "stdout",
     "output_type": "stream",
     "text": [
      "Você digitou os valores 2 e 2\n",
      "Soma: 4\n",
      "Subtração: 0\n",
      "Divisão: 1.0\n",
      "Multiplicação: 4\n"
     ]
    }
   ],
   "source": [
    "valor1 = int(input(\"Digite o primeiro Valor:\"))\n",
    "valor2 = int(input(\"Digite o segudno Valor:\"))\n",
    "\n",
    "print(f\"Você digitou os valores {valor1} e {valor2}\")\n",
    "print(\"Soma:\", valor1 + valor2)\n",
    "print(\"Subtração:\", valor1 - valor2)\n",
    "print(\"Divisão:\", valor1 / valor2)\n",
    "print(\"Multiplicação:\", valor1 * valor2)"
   ]
  },
  {
   "cell_type": "code",
   "execution_count": 19,
   "metadata": {},
   "outputs": [
    {
     "name": "stdout",
     "output_type": "stream",
     "text": [
      "Ola Mik voce tem 23 anos, \n",
      " O Resultado entre os numeros digitadpos é: 10 \n",
      " Obrigado bb por ultizilar nosso sistema :D\n"
     ]
    }
   ],
   "source": [
    "nome = input(\"Digite seu nome:\")\n",
    "idade = int(input(\"Digite sua idade:\"))\n",
    "\n",
    "n1 = int(input(\"digite um numero: \"))\n",
    "n2 = int(input(\"digite outro numero:\"))\n",
    "\n",
    "print (f\"Ola {nome} voce tem {idade} anos, \\n O Resultado entre os numeros digitadpos é:\", n1+n2, \"\\n Obrigado bb por ultizilar nosso sistema :D\")"
   ]
  }
 ],
 "metadata": {
  "kernelspec": {
   "display_name": "venv",
   "language": "python",
   "name": "python3"
  },
  "language_info": {
   "codemirror_mode": {
    "name": "ipython",
    "version": 3
   },
   "file_extension": ".py",
   "mimetype": "text/x-python",
   "name": "python",
   "nbconvert_exporter": "python",
   "pygments_lexer": "ipython3",
   "version": "3.12.3"
  }
 },
 "nbformat": 4,
 "nbformat_minor": 2
}
