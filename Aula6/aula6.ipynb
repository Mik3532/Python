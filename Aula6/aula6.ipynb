{
 "cells": [
  {
   "cell_type": "code",
   "execution_count": 1,
   "metadata": {},
   "outputs": [
    {
     "name": "stdout",
     "output_type": "stream",
     "text": [
      "contagem regressiva: 6... \n",
      "contagem regressiva: 5... \n",
      "contagem regressiva: 4... \n",
      "contagem regressiva: 3... \n",
      "contagem regressiva: 2... \n",
      "contagem regressiva: 1... \n",
      "contagem regressiva: 0... \n",
      "BOOOOMMMMMMM!\n"
     ]
    }
   ],
   "source": [
    "import os\n",
    "import time\n",
    "\n",
    "cont = int(input(\"Digite um numero inteiro: \"))\n",
    "\n",
    "while cont >=0:\n",
    "    os.system(\"cls\") #limpar o terminal \n",
    "    print (f\"contagem regressiva: {cont}... \")\n",
    "    time.sleep(1)#atrasa o proximo comando\n",
    "    cont -= 1\n",
    "\n",
    "os.system(\"cls\")\n",
    "print (\"BOOOOOOOOOMMMMMMM!\")"
   ]
  },
  {
   "cell_type": "code",
   "execution_count": 3,
   "metadata": {},
   "outputs": [
    {
     "name": "stdout",
     "output_type": "stream",
     "text": [
      "mik é maior de idade.\n"
     ]
    }
   ],
   "source": [
    "while True:\n",
    "\n",
    "    nome = input(\"Informe o seu nome ou deixe em branco para sair: \")\n",
    "\n",
    "    if nome != \"\":\n",
    "\n",
    "        idade = int(input(\"informe sua idade\"))\n",
    "\n",
    "        if idade >= 18:\n",
    "            print(f\"{nome} é maior de idade.\")\n",
    "        else: \n",
    "            print (f\"{nome}é menor de idade\")\n",
    "\n",
    "        continue \n",
    "    else:\n",
    "        \n",
    "        break "
   ]
  },
  {
   "cell_type": "markdown",
   "metadata": {},
   "source": [
    "inclementando o while no exercicio do imc da aula anterior"
   ]
  },
  {
   "cell_type": "code",
   "execution_count": 15,
   "metadata": {},
   "outputs": [
    {
     "name": "stdout",
     "output_type": "stream",
     "text": [
      "Está no peso ideal\n"
     ]
    }
   ],
   "source": [
    "while True:\n",
    "    perguntaPeso = input(\"Gostaria de saber seu imc? sim/nao\").lower()\n",
    "\n",
    "    if perguntaPeso == \"sim\":\n",
    "        altura = input(\"Digite Sua altura:\").replace(',','.')\n",
    "        peso = input(\"DIgite o seu Peso:\").replace(',','.')\n",
    "\n",
    "        altura = float(altura)\n",
    "        peso = float(peso)\n",
    "        imc = peso/(altura * altura)\n",
    "\n",
    "        if imc <17:\n",
    "            print(\"Está com anorexia.\")\n",
    "        elif imc <18.5:\n",
    "            print(\"Está abaixo do peso\")\n",
    "        elif imc <25:\n",
    "            print(\"Está no peso ideal\")\n",
    "        elif imc <30:\n",
    "            print(\"Está acima do peso\")\n",
    "        elif imc <35:\n",
    "            print(\"Está com grau de obesidade I\")\n",
    "        elif imc <40:\n",
    "            print(\"Está com grau de obesidade II\")\n",
    "        else:\n",
    "            print(\"Está com grau de obesidade Mórbida\")\n",
    "    else: \n",
    "        print(\"Obrigado\")\n",
    "        break"
   ]
  },
  {
   "cell_type": "code",
   "execution_count": 16,
   "metadata": {},
   "outputs": [],
   "source": [
    "while True:\n",
    "    perguntaCalculadora = input(\"gostaria de ultilizar  a calculadora? sim/nao\")\n",
    "\n",
    "    if perguntaCalculadora == \"sim\":\n",
    "        print (10*\"-\",\"CALCULADORA CMD\",10*\"-\")\n",
    "        print (\"Digite 1 para ADIÇÃO\") \n",
    "        print (\"Digite 2 para SUBTRAÇÃO\") \n",
    "        print (\"Digite 3 para DIVISÃO\") \n",
    "        print (\"Digite 4 para MULTIPLICAÇÃO\") \n",
    "\n",
    "\n",
    "        resposta = input(\"Digite a operação matemática desejada: \")\n",
    "\n",
    "        n1 = input(\"Digite o primerio Numero:\")\n",
    "        n2 = input(\"Digite o segund Numero:\")\n",
    "\n",
    "\n",
    "        resposta = int(resposta)\n",
    "\n",
    "        n1 = int(n1)\n",
    "        n2 = int(n2)\n",
    "\n",
    "        adicao = n1+n2\n",
    "        subtracao =n1-n2\n",
    "        divisao = n1/n2\n",
    "        multiplicacao = n1*n2\n",
    "\n",
    "        if resposta == 1:\n",
    "            resposta = adicao\n",
    "            print (\"A Soma e \", adicao)\n",
    "        elif resposta == 2:\n",
    "            resposta = subtracao\n",
    "            print (\"A Subtração e \", subtracao)\n",
    "        elif resposta == 3:\n",
    "            resposta = divisao\n",
    "            print (\"A Divisão e\", divisao)\n",
    "        elif resposta == 4:\n",
    "            resposta= multiplicacao\n",
    "            print (\"A Multiplicação e \",multiplicacao)\n",
    "\n",
    "    elif perguntaCalculadora == \"nao\":\n",
    "        print(\"ok, saindo do sistema\")\n",
    "        break\n",
    "    else:\n",
    "        print(\"Opção invalida!\")\n"
   ]
  },
  {
   "cell_type": "code",
   "execution_count": 4,
   "metadata": {},
   "outputs": [
    {
     "name": "stdout",
     "output_type": "stream",
     "text": [
      "--------------- CineCapy ---------------\n",
      "SALA 1:  CLASSIFICAÇÃO +12 Capivara Astronalta\n",
      "SALA 2:  CLASSIFICAÇÃO +12 Terror da Capivara\n",
      "SALA 3:  CLASSIFICAÇÃO +12 Ta Chuvendo Capivara\n",
      "SALA 4:  CLASSIFICAÇÃO +18 50Tons de Capivara\n",
      "SALA 5:  CLASSIFICAÇÃO +18 American Capivara\n",
      "Efetuar o pagamento no guiche Obrigado\n",
      "Certo Obrigado\n"
     ]
    }
   ],
   "source": [
    "import os\n",
    "os.system(\"cls\")\n",
    "while True:\n",
    "    \n",
    "    pergunta = input(\"Deseja assistir um filme? sim/nao :\") .lower()\n",
    "\n",
    "    if pergunta == \"sim\":\n",
    "\n",
    "        print (15*'-',\"CineCapy\",15*'-')\n",
    "        print (\"SALA 1:  CLASSIFICAÇÃO: LIVRE- Capivara Astronalta\")\n",
    "        print (\"SALA 2:  CLASSIFICAÇÃO: LIVRE- Terror da Capivara\") \n",
    "        print (\"SALA 3:  CLASSIFICAÇÃO: LIVRE- Ta Chuvendo Capivara\")\n",
    "        print (\"SALA 4:  CLASSIFICAÇÃO: +18- 50Tons de Capivara\")\n",
    "        print (\"SALA 5:  CLASSIFICAÇÃO: +18- American Capivara\")\n",
    "\n",
    "        filme = input(\"Digite a Sala para ver o filme de sua escolha 1,2,3,4,5:\")\n",
    "        idade = input(\"Digite sua idade por gentileza: \")\n",
    "        idade = int(idade)\n",
    "\n",
    "        if filme == \"1\" :\n",
    "            print (\"Entrada autorizada, Tenha um Otimo filme\")\n",
    "            break\n",
    "        elif filme == \"2\":\n",
    "            print (\"Entrada autorizada, Tenha um Otimo filme\")\n",
    "            break\n",
    "        elif filme == \"3\":\n",
    "            print (\"Entrada autorizada, Tenha um Otimo filme\")\n",
    "            break\n",
    "        elif filme == \"4\" and idade >=18:\n",
    "            print (\"Efetuar o pagamento no guiche Obrigado\")\n",
    "            break\n",
    "        elif filme == \"4\" and idade >=18:\n",
    "            print (\"Efetuar o pagamento no guiche Obrigado\")\n",
    "            break\n",
    "        else:\n",
    "            print(\"Idade invalida para assistir esse filme, porfavor selecione um Filme com idade propiada para sua idade :D\")\n",
    "\n",
    "    elif pergunta == \"nao\":\n",
    "        print(\"Certo Obrigado\")\n",
    "        break\n",
    "    else:\n",
    "        print(\"Opção invalida\")"
   ]
  }
 ],
 "metadata": {
  "kernelspec": {
   "display_name": "Python 3",
   "language": "python",
   "name": "python3"
  },
  "language_info": {
   "codemirror_mode": {
    "name": "ipython",
    "version": 3
   },
   "file_extension": ".py",
   "mimetype": "text/x-python",
   "name": "python",
   "nbconvert_exporter": "python",
   "pygments_lexer": "ipython3",
   "version": "3.12.3"
  }
 },
 "nbformat": 4,
 "nbformat_minor": 2
}
